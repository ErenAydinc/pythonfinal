{
 "cells": [
  {
   "cell_type": "code",
   "execution_count": 382,
   "metadata": {},
   "outputs": [
    {
     "name": "stdout",
     "output_type": "stream",
     "text": [
      "Tarih: Köle Olmayacağız, Aliya, Tarih\n",
      "\n",
      "Tarih: Yakın Tarihin Gerçekleri, İlber Ortaylı, Tarih\n",
      "\n",
      "Tarih: Malcolm X, Malcolm X, Tarih\n",
      "\n",
      "\n",
      "Kişisel Gelişim Var Mısın, Doğan Cüceloğlu, Kişisel Gelişim\n",
      "\n",
      "Kişisel Gelişim İnsan Olmak, Engin Gençtan, Kişisel Gelişim\n",
      "\n",
      "Kişisel Gelişim Simyacı, Paulo Coelho, Kişisel Gelişim\n",
      "\n"
     ]
    }
   ],
   "source": [
    "# Eren Aydinç 95210152\n",
    "\n",
    "#A\n",
    "\n",
    "kutuphane = open(\"Kutuphane.txt\",\"a\")\n",
    "kutuphane.write(\"Köle Olmayacağız, Aliya, Tarih\\nVar Mısın, Doğan Cüceloğlu, Kişisel Gelişim\\nYakın Tarihin Gerçekleri, İlber Ortaylı, Tarih\\nİnsan Olmak, Engin Gençtan, Kişisel Gelişim\\nSimyacı, Paulo Coelho, Kişisel Gelişim\\nMalcolm X, Malcolm X, Tarih\")\n",
    "kutuphane.close()\n",
    "\n",
    "\n",
    "books = open(\"Kutuphane.txt\")\n",
    "lines = books.readlines()\n",
    "word1 = \"Tarih\"\n",
    "for line in lines:\n",
    "    if line.find(word1) != -1:\n",
    "        print('Tarih:', line)\n",
    "        tarih = open(\"tarih.txt\",\"a\")\n",
    "        tarih.write(line)\n",
    "        tarih.close()\n",
    "print(\"\\n\")\n",
    "word2 = \"Kişisel Gelişim\"\n",
    "for line in lines:\n",
    "    if line.find(word2) != -1:\n",
    "        print('Kişisel Gelişim', line)\n",
    "        tarih = open(\"kisiselGelisim.txt\",\"a\")\n",
    "        tarih.write(line)\n",
    "        tarih.close()\n"
   ]
  },
  {
   "cell_type": "code",
   "execution_count": 16,
   "metadata": {},
   "outputs": [
    {
     "name": "stdout",
     "output_type": "stream",
     "text": [
      "[[ 0  1  2  3]\n",
      " [ 4  5  6  7]\n",
      " [ 8  9 10 11]\n",
      " [12 13 14 15]]\n"
     ]
    }
   ],
   "source": [
    "#B=>1\n",
    "\n",
    "import numpy as np\n",
    "matris = np.array(range(16)).reshape(4,4)\n",
    "print(matris)"
   ]
  },
  {
   "cell_type": "code",
   "execution_count": 380,
   "metadata": {},
   "outputs": [
    {
     "name": "stdout",
     "output_type": "stream",
     "text": [
      "             Yabancı Oyuncu Sayısı  Yerli Oyuncu Sayısı  Çifte Vatandaş Sayısı\n",
      "Sakaryaspor                      7                    8                      8\n",
      "Pendikspor                       8                    7                      7\n",
      "Göztepe                          8                    7                      7\n",
      "Bursaspor                        7                    7                      7\n"
     ]
    }
   ],
   "source": [
    "#B=>2\n",
    "\n",
    "import numpy as np\n",
    "import pandas as pd\n",
    "from numpy.random import randint\n",
    "\n",
    "dateFrame=pd.DataFrame(data=randint(low=7,high=9,size=(4,3),dtype=int),index=[\"Sakaryaspor\",\"Pendikspor\",\"Göztepe\",\"Bursaspor\"],columns=(\"Yabancı Oyuncu Sayısı\",\"Yerli Oyuncu Sayısı\",\"Çifte Vatandaş Sayısı\"))\n",
    "\n",
    "print(dateFrame)"
   ]
  },
  {
   "cell_type": "code",
   "execution_count": 30,
   "metadata": {},
   "outputs": [
    {
     "name": "stdout",
     "output_type": "stream",
     "text": [
      "      0     1     2     3\n",
      "0  50.0  12.0  16.0  16.0\n",
      "1  16.0  16.0  80.0  70.0\n",
      "2  93.0  16.0  16.0  16.0\n"
     ]
    }
   ],
   "source": [
    "#B=>3\n",
    "\n",
    "import numpy as np\n",
    "import pandas as pd\n",
    "import random\n",
    "Arr=np.array([[50,12,np.nan,16],[np.nan, np.nan,80,70],[93,np.nan,16,np.nan]])\n",
    "\n",
    "dateFrame = pd.DataFrame(Arr)\n",
    "\n",
    "dateFrameReplace = dateFrame.replace(np.nan,random.randint(1,100))\n",
    "\n",
    "print(dateFrameReplace)"
   ]
  },
  {
   "cell_type": "code",
   "execution_count": 32,
   "metadata": {},
   "outputs": [],
   "source": [
    "#C=>1\n",
    "\n",
    "import pandas as pd\n",
    "\n",
    "stress = pd.read_csv(\"Stress-Lysis.csv\")\n"
   ]
  },
  {
   "cell_type": "code",
   "execution_count": 33,
   "metadata": {},
   "outputs": [
    {
     "data": {
      "text/html": [
       "<div>\n",
       "<style scoped>\n",
       "    .dataframe tbody tr th:only-of-type {\n",
       "        vertical-align: middle;\n",
       "    }\n",
       "\n",
       "    .dataframe tbody tr th {\n",
       "        vertical-align: top;\n",
       "    }\n",
       "\n",
       "    .dataframe thead th {\n",
       "        text-align: right;\n",
       "    }\n",
       "</style>\n",
       "<table border=\"1\" class=\"dataframe\">\n",
       "  <thead>\n",
       "    <tr style=\"text-align: right;\">\n",
       "      <th></th>\n",
       "      <th>Humidity</th>\n",
       "      <th>Temperature</th>\n",
       "      <th>Step_count</th>\n",
       "      <th>Stress_Level</th>\n",
       "    </tr>\n",
       "  </thead>\n",
       "  <tbody>\n",
       "    <tr>\n",
       "      <th>0</th>\n",
       "      <td>21.33</td>\n",
       "      <td>90.33</td>\n",
       "      <td>123</td>\n",
       "      <td>1</td>\n",
       "    </tr>\n",
       "    <tr>\n",
       "      <th>1</th>\n",
       "      <td>21.41</td>\n",
       "      <td>90.41</td>\n",
       "      <td>93</td>\n",
       "      <td>1</td>\n",
       "    </tr>\n",
       "    <tr>\n",
       "      <th>2</th>\n",
       "      <td>27.12</td>\n",
       "      <td>96.12</td>\n",
       "      <td>196</td>\n",
       "      <td>2</td>\n",
       "    </tr>\n",
       "    <tr>\n",
       "      <th>3</th>\n",
       "      <td>27.64</td>\n",
       "      <td>96.64</td>\n",
       "      <td>177</td>\n",
       "      <td>2</td>\n",
       "    </tr>\n",
       "    <tr>\n",
       "      <th>4</th>\n",
       "      <td>10.87</td>\n",
       "      <td>79.87</td>\n",
       "      <td>87</td>\n",
       "      <td>0</td>\n",
       "    </tr>\n",
       "    <tr>\n",
       "      <th>5</th>\n",
       "      <td>11.31</td>\n",
       "      <td>80.31</td>\n",
       "      <td>40</td>\n",
       "      <td>0</td>\n",
       "    </tr>\n",
       "    <tr>\n",
       "      <th>6</th>\n",
       "      <td>18.16</td>\n",
       "      <td>87.16</td>\n",
       "      <td>88</td>\n",
       "      <td>1</td>\n",
       "    </tr>\n",
       "    <tr>\n",
       "      <th>7</th>\n",
       "      <td>28.20</td>\n",
       "      <td>97.20</td>\n",
       "      <td>162</td>\n",
       "      <td>2</td>\n",
       "    </tr>\n",
       "    <tr>\n",
       "      <th>8</th>\n",
       "      <td>14.25</td>\n",
       "      <td>83.25</td>\n",
       "      <td>61</td>\n",
       "      <td>0</td>\n",
       "    </tr>\n",
       "    <tr>\n",
       "      <th>9</th>\n",
       "      <td>26.13</td>\n",
       "      <td>95.13</td>\n",
       "      <td>168</td>\n",
       "      <td>2</td>\n",
       "    </tr>\n",
       "    <tr>\n",
       "      <th>10</th>\n",
       "      <td>23.61</td>\n",
       "      <td>92.61</td>\n",
       "      <td>200</td>\n",
       "      <td>2</td>\n",
       "    </tr>\n",
       "    <tr>\n",
       "      <th>11</th>\n",
       "      <td>19.37</td>\n",
       "      <td>88.37</td>\n",
       "      <td>117</td>\n",
       "      <td>1</td>\n",
       "    </tr>\n",
       "    <tr>\n",
       "      <th>12</th>\n",
       "      <td>29.08</td>\n",
       "      <td>98.08</td>\n",
       "      <td>179</td>\n",
       "      <td>2</td>\n",
       "    </tr>\n",
       "    <tr>\n",
       "      <th>13</th>\n",
       "      <td>17.83</td>\n",
       "      <td>86.83</td>\n",
       "      <td>55</td>\n",
       "      <td>1</td>\n",
       "    </tr>\n",
       "    <tr>\n",
       "      <th>14</th>\n",
       "      <td>28.06</td>\n",
       "      <td>97.06</td>\n",
       "      <td>148</td>\n",
       "      <td>2</td>\n",
       "    </tr>\n",
       "  </tbody>\n",
       "</table>\n",
       "</div>"
      ],
      "text/plain": [
       "    Humidity  Temperature  Step_count  Stress_Level\n",
       "0      21.33        90.33         123             1\n",
       "1      21.41        90.41          93             1\n",
       "2      27.12        96.12         196             2\n",
       "3      27.64        96.64         177             2\n",
       "4      10.87        79.87          87             0\n",
       "5      11.31        80.31          40             0\n",
       "6      18.16        87.16          88             1\n",
       "7      28.20        97.20         162             2\n",
       "8      14.25        83.25          61             0\n",
       "9      26.13        95.13         168             2\n",
       "10     23.61        92.61         200             2\n",
       "11     19.37        88.37         117             1\n",
       "12     29.08        98.08         179             2\n",
       "13     17.83        86.83          55             1\n",
       "14     28.06        97.06         148             2"
      ]
     },
     "execution_count": 33,
     "metadata": {},
     "output_type": "execute_result"
    }
   ],
   "source": [
    "#C=>2\n",
    "\n",
    "stress.head(15)"
   ]
  },
  {
   "cell_type": "code",
   "execution_count": 35,
   "metadata": {},
   "outputs": [
    {
     "data": {
      "text/plain": [
       "(2001, 4)"
      ]
     },
     "execution_count": 35,
     "metadata": {},
     "output_type": "execute_result"
    }
   ],
   "source": [
    "#C=>3\n",
    "\n",
    "stress.shape"
   ]
  },
  {
   "cell_type": "code",
   "execution_count": 37,
   "metadata": {},
   "outputs": [
    {
     "name": "stdout",
     "output_type": "stream",
     "text": [
      "0    1\n",
      "1    1\n",
      "2    2\n",
      "3    2\n",
      "4    0\n",
      "Name: Stress_Level, dtype: int64\n"
     ]
    }
   ],
   "source": [
    "#C=>4\n",
    "\n",
    "print(stress.head().Stress_Level)"
   ]
  },
  {
   "cell_type": "code",
   "execution_count": 38,
   "metadata": {},
   "outputs": [
    {
     "name": "stdout",
     "output_type": "stream",
     "text": [
      "Humidity        float64\n",
      "Temperature     float64\n",
      "Step_count        int64\n",
      "Stress_Level      int64\n",
      "dtype: object\n"
     ]
    }
   ],
   "source": [
    "#C=>5\n",
    "\n",
    "print(stress.dtypes)"
   ]
  },
  {
   "cell_type": "code",
   "execution_count": 42,
   "metadata": {},
   "outputs": [
    {
     "data": {
      "text/html": [
       "<div>\n",
       "<style scoped>\n",
       "    .dataframe tbody tr th:only-of-type {\n",
       "        vertical-align: middle;\n",
       "    }\n",
       "\n",
       "    .dataframe tbody tr th {\n",
       "        vertical-align: top;\n",
       "    }\n",
       "\n",
       "    .dataframe thead th {\n",
       "        text-align: right;\n",
       "    }\n",
       "</style>\n",
       "<table border=\"1\" class=\"dataframe\">\n",
       "  <thead>\n",
       "    <tr style=\"text-align: right;\">\n",
       "      <th></th>\n",
       "      <th>Humidity</th>\n",
       "      <th>Temperature</th>\n",
       "      <th>Step_count</th>\n",
       "      <th>Stress_Level</th>\n",
       "    </tr>\n",
       "  </thead>\n",
       "  <tbody>\n",
       "    <tr>\n",
       "      <th>count</th>\n",
       "      <td>2001.000000</td>\n",
       "      <td>2001.000000</td>\n",
       "      <td>2001.000000</td>\n",
       "      <td>2001.000000</td>\n",
       "    </tr>\n",
       "    <tr>\n",
       "      <th>mean</th>\n",
       "      <td>20.000000</td>\n",
       "      <td>89.000000</td>\n",
       "      <td>100.141429</td>\n",
       "      <td>1.104448</td>\n",
       "    </tr>\n",
       "    <tr>\n",
       "      <th>std</th>\n",
       "      <td>5.777833</td>\n",
       "      <td>5.777833</td>\n",
       "      <td>58.182948</td>\n",
       "      <td>0.771094</td>\n",
       "    </tr>\n",
       "    <tr>\n",
       "      <th>min</th>\n",
       "      <td>10.000000</td>\n",
       "      <td>79.000000</td>\n",
       "      <td>0.000000</td>\n",
       "      <td>0.000000</td>\n",
       "    </tr>\n",
       "    <tr>\n",
       "      <th>25%</th>\n",
       "      <td>15.000000</td>\n",
       "      <td>84.000000</td>\n",
       "      <td>50.000000</td>\n",
       "      <td>0.000000</td>\n",
       "    </tr>\n",
       "    <tr>\n",
       "      <th>50%</th>\n",
       "      <td>20.000000</td>\n",
       "      <td>89.000000</td>\n",
       "      <td>101.000000</td>\n",
       "      <td>1.000000</td>\n",
       "    </tr>\n",
       "    <tr>\n",
       "      <th>75%</th>\n",
       "      <td>25.000000</td>\n",
       "      <td>94.000000</td>\n",
       "      <td>150.000000</td>\n",
       "      <td>2.000000</td>\n",
       "    </tr>\n",
       "    <tr>\n",
       "      <th>max</th>\n",
       "      <td>30.000000</td>\n",
       "      <td>99.000000</td>\n",
       "      <td>200.000000</td>\n",
       "      <td>2.000000</td>\n",
       "    </tr>\n",
       "  </tbody>\n",
       "</table>\n",
       "</div>"
      ],
      "text/plain": [
       "          Humidity  Temperature   Step_count  Stress_Level\n",
       "count  2001.000000  2001.000000  2001.000000   2001.000000\n",
       "mean     20.000000    89.000000   100.141429      1.104448\n",
       "std       5.777833     5.777833    58.182948      0.771094\n",
       "min      10.000000    79.000000     0.000000      0.000000\n",
       "25%      15.000000    84.000000    50.000000      0.000000\n",
       "50%      20.000000    89.000000   101.000000      1.000000\n",
       "75%      25.000000    94.000000   150.000000      2.000000\n",
       "max      30.000000    99.000000   200.000000      2.000000"
      ]
     },
     "execution_count": 42,
     "metadata": {},
     "output_type": "execute_result"
    }
   ],
   "source": [
    "#C=>6\n",
    "\n",
    "import pandas as pd\n",
    "\n",
    "stress.describe()"
   ]
  },
  {
   "cell_type": "code",
   "execution_count": 43,
   "metadata": {},
   "outputs": [
    {
     "data": {
      "text/plain": [
       "<bound method DataFrame.isnull of       Humidity  Temperature  Step_count  Stress_Level\n",
       "0        21.33        90.33         123             1\n",
       "1        21.41        90.41          93             1\n",
       "2        27.12        96.12         196             2\n",
       "3        27.64        96.64         177             2\n",
       "4        10.87        79.87          87             0\n",
       "...        ...          ...         ...           ...\n",
       "1996     21.82        90.82          96             1\n",
       "1997     10.45        79.45          45             0\n",
       "1998     27.22        96.22         135             2\n",
       "1999     12.46        81.46          64             0\n",
       "2000     16.87        85.87          50             1\n",
       "\n",
       "[2001 rows x 4 columns]>"
      ]
     },
     "execution_count": 43,
     "metadata": {},
     "output_type": "execute_result"
    }
   ],
   "source": [
    "#C=>7\n",
    "\n",
    "stress.isnull"
   ]
  },
  {
   "cell_type": "code",
   "execution_count": 44,
   "metadata": {},
   "outputs": [
    {
     "name": "stdout",
     "output_type": "stream",
     "text": [
      "      Humidity  Temperature  Step_count  Stress_Level\n",
      "0        21.33        90.33       123.0           1.0\n",
      "1        21.41        90.41        93.0           1.0\n",
      "2        27.12        96.12       196.0           2.0\n",
      "3        27.64        96.64       177.0           2.0\n",
      "4        10.87        79.87        87.0           0.0\n",
      "...        ...          ...         ...           ...\n",
      "1996     21.82        90.82        96.0           1.0\n",
      "1997     10.45        79.45        45.0           0.0\n",
      "1998     27.22        96.22       135.0           2.0\n",
      "1999     12.46        81.46        64.0           0.0\n",
      "2000     16.87        85.87        50.0           1.0\n",
      "\n",
      "[2001 rows x 4 columns]\n"
     ]
    }
   ],
   "source": [
    "#C=>8\n",
    "\n",
    "import numpy as np\n",
    "\n",
    "stressisnun= stress.replace(\"null\",np.nan).astype(float)\n",
    "\n",
    "print(stressisnun)"
   ]
  },
  {
   "cell_type": "code",
   "execution_count": 45,
   "metadata": {},
   "outputs": [
    {
     "data": {
      "text/plain": [
       "20.0"
      ]
     },
     "execution_count": 45,
     "metadata": {},
     "output_type": "execute_result"
    }
   ],
   "source": [
    "#C=>9\n",
    "\n",
    "stress['Humidity'].mean()"
   ]
  },
  {
   "cell_type": "code",
   "execution_count": 46,
   "metadata": {},
   "outputs": [
    {
     "data": {
      "text/plain": [
       "99.0"
      ]
     },
     "execution_count": 46,
     "metadata": {},
     "output_type": "execute_result"
    }
   ],
   "source": [
    "#C=>10\n",
    "\n",
    "stress['Temperature'].max()"
   ]
  },
  {
   "cell_type": "code",
   "execution_count": 47,
   "metadata": {},
   "outputs": [
    {
     "data": {
      "text/html": [
       "<div>\n",
       "<style scoped>\n",
       "    .dataframe tbody tr th:only-of-type {\n",
       "        vertical-align: middle;\n",
       "    }\n",
       "\n",
       "    .dataframe tbody tr th {\n",
       "        vertical-align: top;\n",
       "    }\n",
       "\n",
       "    .dataframe thead th {\n",
       "        text-align: right;\n",
       "    }\n",
       "</style>\n",
       "<table border=\"1\" class=\"dataframe\">\n",
       "  <thead>\n",
       "    <tr style=\"text-align: right;\">\n",
       "      <th></th>\n",
       "      <th>Humidity</th>\n",
       "      <th>Step_count</th>\n",
       "      <th>Stress_Level</th>\n",
       "    </tr>\n",
       "    <tr>\n",
       "      <th>Temperature</th>\n",
       "      <th></th>\n",
       "      <th></th>\n",
       "      <th></th>\n",
       "    </tr>\n",
       "  </thead>\n",
       "  <tbody>\n",
       "    <tr>\n",
       "      <th>79.00</th>\n",
       "      <td>10.00</td>\n",
       "      <td>0.0</td>\n",
       "      <td>0.0</td>\n",
       "    </tr>\n",
       "    <tr>\n",
       "      <th>79.01</th>\n",
       "      <td>10.01</td>\n",
       "      <td>1.0</td>\n",
       "      <td>0.0</td>\n",
       "    </tr>\n",
       "    <tr>\n",
       "      <th>79.02</th>\n",
       "      <td>10.02</td>\n",
       "      <td>2.0</td>\n",
       "      <td>0.0</td>\n",
       "    </tr>\n",
       "    <tr>\n",
       "      <th>79.03</th>\n",
       "      <td>10.03</td>\n",
       "      <td>3.0</td>\n",
       "      <td>0.0</td>\n",
       "    </tr>\n",
       "    <tr>\n",
       "      <th>79.04</th>\n",
       "      <td>10.04</td>\n",
       "      <td>4.0</td>\n",
       "      <td>0.0</td>\n",
       "    </tr>\n",
       "    <tr>\n",
       "      <th>...</th>\n",
       "      <td>...</td>\n",
       "      <td>...</td>\n",
       "      <td>...</td>\n",
       "    </tr>\n",
       "    <tr>\n",
       "      <th>98.96</th>\n",
       "      <td>29.96</td>\n",
       "      <td>196.0</td>\n",
       "      <td>2.0</td>\n",
       "    </tr>\n",
       "    <tr>\n",
       "      <th>98.97</th>\n",
       "      <td>29.97</td>\n",
       "      <td>197.0</td>\n",
       "      <td>2.0</td>\n",
       "    </tr>\n",
       "    <tr>\n",
       "      <th>98.98</th>\n",
       "      <td>29.98</td>\n",
       "      <td>198.0</td>\n",
       "      <td>2.0</td>\n",
       "    </tr>\n",
       "    <tr>\n",
       "      <th>98.99</th>\n",
       "      <td>29.99</td>\n",
       "      <td>199.0</td>\n",
       "      <td>2.0</td>\n",
       "    </tr>\n",
       "    <tr>\n",
       "      <th>99.00</th>\n",
       "      <td>30.00</td>\n",
       "      <td>200.0</td>\n",
       "      <td>2.0</td>\n",
       "    </tr>\n",
       "  </tbody>\n",
       "</table>\n",
       "<p>2001 rows × 3 columns</p>\n",
       "</div>"
      ],
      "text/plain": [
       "             Humidity  Step_count  Stress_Level\n",
       "Temperature                                    \n",
       "79.00           10.00         0.0           0.0\n",
       "79.01           10.01         1.0           0.0\n",
       "79.02           10.02         2.0           0.0\n",
       "79.03           10.03         3.0           0.0\n",
       "79.04           10.04         4.0           0.0\n",
       "...               ...         ...           ...\n",
       "98.96           29.96       196.0           2.0\n",
       "98.97           29.97       197.0           2.0\n",
       "98.98           29.98       198.0           2.0\n",
       "98.99           29.99       199.0           2.0\n",
       "99.00           30.00       200.0           2.0\n",
       "\n",
       "[2001 rows x 3 columns]"
      ]
     },
     "execution_count": 47,
     "metadata": {},
     "output_type": "execute_result"
    }
   ],
   "source": [
    "#C=>11\n",
    "\n",
    "stress.groupby(\"Temperature\").mean()"
   ]
  },
  {
   "cell_type": "code",
   "execution_count": 49,
   "metadata": {},
   "outputs": [
    {
     "data": {
      "text/plain": [
       "21.33    1\n",
       "25.49    1\n",
       "16.42    1\n",
       "20.54    1\n",
       "13.90    1\n",
       "        ..\n",
       "21.37    1\n",
       "27.08    1\n",
       "20.75    1\n",
       "13.99    1\n",
       "16.87    1\n",
       "Name: Humidity, Length: 2001, dtype: int64"
      ]
     },
     "execution_count": 49,
     "metadata": {},
     "output_type": "execute_result"
    }
   ],
   "source": [
    "#C=>12\n",
    "\n",
    "stress[\"Humidity\"].value_counts()\n",
    "\n"
   ]
  },
  {
   "cell_type": "code",
   "execution_count": 182,
   "metadata": {},
   "outputs": [
    {
     "data": {
      "text/plain": [
       "<AxesSubplot: >"
      ]
     },
     "execution_count": 182,
     "metadata": {},
     "output_type": "execute_result"
    },
    {
     "data": {
      "image/png": "[encoded data removed]",
      "text/plain": [
       "<Figure size 640x480 with 2 Axes>"
      ]
     },
     "metadata": {},
     "output_type": "display_data"
    }
   ],
   "source": [
    "#C=>13\n",
    "\n",
    "import seaborn as sns\n",
    "sns.heatmap(stress.corr())"
   ]
  },
  {
   "cell_type": "code",
   "execution_count": 310,
   "metadata": {},
   "outputs": [],
   "source": [
    "#C=>14\n",
    "X=stress.drop('Stress_Level',axis=1)\n",
    "y=stress['Stress_Level']"
   ]
  },
  {
   "cell_type": "code",
   "execution_count": 311,
   "metadata": {},
   "outputs": [],
   "source": [
    "#C=>15\n",
    "\n",
    "from sklearn.model_selection import train_test_split\n",
    "x_train, x_test, y_train, y_test=train_test_split(X,y,test_size=.3, random_state=0)\n"
   ]
  },
  {
   "cell_type": "code",
   "execution_count": 389,
   "metadata": {},
   "outputs": [
    {
     "name": "stdout",
     "output_type": "stream",
     "text": [
      "Normalized Data =  [[0.13842341 0.58620659 0.7982222  0.00648961]\n",
      " [0.16286029 0.68772529 0.70742674 0.00760674]\n",
      " [0.12327967 0.4369337  0.89095927 0.00909142]\n",
      " ...\n",
      " [0.16201171 0.57269532 0.80351141 0.01190387]\n",
      " [0.11941648 0.78071159 0.61337518 0.        ]\n",
      " [0.16737253 0.85194304 0.49606559 0.00992131]]\n"
     ]
    }
   ],
   "source": [
    "#C=>16\n",
    "\n",
    "from sklearn import preprocessing\n",
    "import numpy as np\n",
    "\n",
    "# normalize the data attributes\n",
    "normalized = preprocessing.normalize(stress)\n",
    "print(\"Normalized Data = \", normalized)"
   ]
  },
  {
   "cell_type": "code",
   "execution_count": 388,
   "metadata": {},
   "outputs": [
    {
     "data": {
      "text/plain": [
       "1.0"
      ]
     },
     "execution_count": 388,
     "metadata": {},
     "output_type": "execute_result"
    }
   ],
   "source": [
    "#C=>17\n",
    "\n",
    "from sklearn.ensemble import RandomForestClassifier\n",
    "rfc = RandomForestClassifier()\n",
    "rfc.fit(x_train, y_train)\n",
    "y_pred=rfc.predict(x_test)\n",
    "rfc.score(x_test, y_test)\n",
    "\n",
    "\n",
    "#Random Forest algoritması, sınıflandırma işlemi esnasında birden fazla karar mekanizması üreterek sınıflandırma değerini yükseltmeyi hedefleyen bir algoritmadır."
   ]
  },
  {
   "cell_type": "code",
   "execution_count": 387,
   "metadata": {},
   "outputs": [
    {
     "data": {
      "text/plain": [
       "array([[134,   0,   0],\n",
       "       [  0, 252,   0],\n",
       "       [  0,   0, 215]], dtype=int64)"
      ]
     },
     "execution_count": 387,
     "metadata": {},
     "output_type": "execute_result"
    }
   ],
   "source": [
    "#C=>18\n",
    "\n",
    "from sklearn.metrics import confusion_matrix\n",
    "mat = confusion_matrix(y_test, y_pred)\n",
    "mat"
   ]
  },
  {
   "cell_type": "code",
   "execution_count": 386,
   "metadata": {},
   "outputs": [
    {
     "name": "stdout",
     "output_type": "stream",
     "text": [
      "              precision    recall  f1-score   support\n",
      "\n",
      "                   1.00      1.00      1.00       134\n",
      "                   1.00      1.00      1.00       252\n",
      "                   1.00      1.00      1.00       215\n",
      "\n",
      "    accuracy                           1.00       601\n",
      "   macro avg       1.00      1.00      1.00       601\n",
      "weighted avg       1.00      1.00      1.00       601\n",
      "\n"
     ]
    }
   ],
   "source": [
    "#C=>19\n",
    "\n",
    "from sklearn.metrics import classification_report\n",
    "clf = [\" \",\" \",\" \"]\n",
    "print(classification_report(y_test, y_pred, target_names=clf))"
   ]
  }
 ],
 "metadata": {
  "kernelspec": {
   "display_name": "Python 3.10.5 64-bit",
   "language": "python",
   "name": "python3"
  },
  "language_info": {
   "codemirror_mode": {
    "name": "ipython",
    "version": 3
   },
   "file_extension": ".py",
   "mimetype": "text/x-python",
   "name": "python",
   "nbconvert_exporter": "python",
   "pygments_lexer": "ipython3",
   "version": "3.10.5"
  },
  "orig_nbformat": 4,
  "vscode": {
   "interpreter": {
    "hash": "83b105715bc863ce4cabfaa3cd62da4b447f7dc8c00e6615c2fa08d4ed683c64"
   }
  }
 },
 "nbformat": 4,
 "nbformat_minor": 2
}
